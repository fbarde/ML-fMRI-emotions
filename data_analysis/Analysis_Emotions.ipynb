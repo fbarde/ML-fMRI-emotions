{
 "cells": [
  {
   "cell_type": "markdown",
   "id": "ea3637bc",
   "metadata": {},
   "source": [
    "This notebook analyses the distribution of the recoreded emotions in the dataset."
   ]
  },
  {
   "cell_type": "code",
   "execution_count": 2,
   "id": "ab571f9e",
   "metadata": {},
   "outputs": [],
   "source": [
    "import numpy as np\n",
    "import pandas as pd\n",
    "import tensorflow as tf\n",
    "import matplotlib.pyplot as plt\n",
    "import seaborn as sns"
   ]
  },
  {
   "cell_type": "markdown",
   "id": "16f10de9",
   "metadata": {},
   "source": [
    "## Load data"
   ]
  },
  {
   "cell_type": "code",
   "execution_count": 12,
   "id": "ff9de1fd",
   "metadata": {},
   "outputs": [],
   "source": [
    "data_train_path = 'C:/Users/manon/Desktop/Projet_2 _ML/code/datas/Split_48_neutre/Combined_All_Train_80.csv'\n",
    "data_test_path = 'C:/Users/manon/Desktop/Projet_2 _ML/code/datas/Split_48_neutre/Combined_All_Test_80.csv'\n",
    "\n",
    "# Load the data and separate the brain and emotions data. If working with the 400 brain regions, change 48 with 400\n",
    "tx_train = pd.read_csv(data_train_path,sep=\",\",squeeze=True)\n",
    "X_train=tx_train.iloc[:, :48]\n",
    "ytr = pd.read_csv(data_train_path,sep=\",\",usecols=[48],squeeze=True)\n",
    "\n",
    "tx_test = pd.read_csv(data_test_path,sep=\",\",squeeze=True)\n",
    "X_test=tx_test.iloc[:, :48]\n",
    "yte = pd.read_csv(data_test_path,sep=\",\",usecols=[48],squeeze=True)\n",
    "\n",
    "def add_column_names(data):\n",
    "    liste=[]\n",
    "    for i in range(48):\n",
    "        liste.append(str(i+1))\n",
    "    data.columns=liste\n",
    "    return data,liste\n",
    "\n",
    "# add identifiers to the brain data (i.e. number of the brain regions)\n",
    "X_train,liste = add_column_names(X_train)\n",
    "X_test,liste = add_column_names(X_test)\n",
    "\n",
    "# change the format of the emotion data from double to int\n",
    "ytr = ytr.astype(np.int64)\n",
    "yte = yte.astype(np.int64)\n",
    "\n",
    "#concatenate the training and testing emotion datasets\n",
    "ytr2 = np.expand_dims(ytr, axis=1)\n",
    "ytr2 = pd.DataFrame(ytr2, columns = ['Emotions'])\n",
    "yte2 = np.expand_dims(yte, axis=1)\n",
    "yte2 = pd.DataFrame(yte2, columns = ['Emotions'])\n",
    "y=pd.concat([yte2,ytr2])"
   ]
  },
  {
   "cell_type": "markdown",
   "id": "c4ee587b",
   "metadata": {},
   "source": [
    "## Count Plot of the Emotions in the dataset"
   ]
  },
  {
   "cell_type": "markdown",
   "id": "8df87c9e",
   "metadata": {},
   "source": [
    "Put emotions in alphabetical order:"
   ]
  },
  {
   "cell_type": "code",
   "execution_count": 13,
   "id": "d333a7c4",
   "metadata": {},
   "outputs": [],
   "source": [
    "dict = pd.DataFrame({0:'Anger',1:'Sad',2:'Guilt',3:'Shame',4:'Disgust',5:'Anxiety',6:'Fear',7:'Surprise',8:'Contempt',9:'Satisfaction',\n",
    "            10:'WarmHeart.',11:'Happiness',12:'Love',13:'Neutral'}, index=[0])\n",
    "y=y.replace({\"Emotions\": dict})"
   ]
  },
  {
   "cell_type": "markdown",
   "id": "2481301c",
   "metadata": {},
   "source": [
    "Plot:"
   ]
  },
  {
   "cell_type": "code",
   "execution_count": 14,
   "id": "b5eb3ab6",
   "metadata": {
    "scrolled": true
   },
   "outputs": [
    {
     "data": {
      "image/png": "[encoded data removed]",
      "text/plain": [
       "<Figure size 311.811x141.732 with 1 Axes>"
      ]
     },
     "metadata": {
      "needs_background": "light"
     },
     "output_type": "display_data"
    }
   ],
   "source": [
    "def cm_to_inch(value):\n",
    "    return value/2.54\n",
    "\n",
    "hfont = {'fontname':'Times New Roman'}\n",
    "sns.set_style({'fontname':'Times New Roman'})\n",
    "\n",
    "fig = plt.figure(figsize=(cm_to_inch(11),cm_to_inch(5)))\n",
    "plt.xticks(rotation=90)\n",
    "plt.rcParams[\"font.family\"] = \"Times New Roman\"\n",
    "sns.countplot(x='Emotions',data=y, order=['Anger','Anxiety','Contempt','Disgust','Fear','Guilt','Happiness',\n",
    "                                         'Love','Sad','Satisfaction','Shame','Surprise','WarmHeart.','Neutral']\n",
    "              ,orient='v')\n",
    "fig.savefig('C:/Users/manon/Desktop/Projet_2 _ML/figures/Emotions.eps', format='eps',bbox_inches = 'tight')"
   ]
  },
  {
   "cell_type": "markdown",
   "id": "632919d0",
   "metadata": {},
   "source": [
    "## Corresponding percentages"
   ]
  },
  {
   "cell_type": "code",
   "execution_count": 18,
   "id": "6c5ca333",
   "metadata": {},
   "outputs": [
    {
     "name": "stdout",
     "output_type": "stream",
     "text": [
      "(11841,)\n",
      "Satisfaction, n=1339 (11.308%)\n",
      "Shame, n=1275 (10.768%)\n",
      "Surprise, n=306 (2.584%)\n",
      "Disgust, n=804 (6.790%)\n",
      "Neutral, n=853 (7.204%)\n",
      "Anger, n=255 (2.154%)\n",
      "Love, n=416 (3.513%)\n",
      "WarmHeart., n=776 (6.554%)\n",
      "Fear, n=655 (5.532%)\n",
      "Contempt, n=972 (8.209%)\n",
      "Happiness, n=2889 (24.398%)\n",
      "Sad, n=672 (5.675%)\n",
      "Anxiety, n=629 (5.312%)\n"
     ]
    }
   ],
   "source": [
    "from collections import Counter\n",
    "from sklearn.preprocessing import LabelEncoder\n",
    "y2= np.squeeze(y)\n",
    "print(y2.shape)\n",
    "counter = Counter(y2)\n",
    "for k,v in counter.items():\n",
    "    per = v / len(y2) * 100\n",
    "    print('%s, n=%d (%.3f%%)' % (k, v, per))"
   ]
  },
  {
   "cell_type": "code",
   "execution_count": null,
   "id": "d0ae88ed",
   "metadata": {},
   "outputs": [],
   "source": []
  }
 ],
 "metadata": {
  "kernelspec": {
   "display_name": "Python 3",
   "language": "python",
   "name": "python3"
  },
  "language_info": {
   "codemirror_mode": {
    "name": "ipython",
    "version": 3
   },
   "file_extension": ".py",
   "mimetype": "text/x-python",
   "name": "python",
   "nbconvert_exporter": "python",
   "pygments_lexer": "ipython3",
   "version": "3.8.8"
  }
 },
 "nbformat": 4,
 "nbformat_minor": 5
}
