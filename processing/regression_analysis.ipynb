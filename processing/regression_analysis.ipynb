{
 "cells": [
  {
   "cell_type": "code",
   "execution_count": 2,
   "metadata": {},
   "outputs": [],
   "source": [
    "# General Aim of the Notebook:\n",
    "# Testing different regression models to see how they perform, however omitted later due to very bad perfomance \n",
    "\n",
    "# Following https://www.pluralsight.com/guides/linear-lasso-ridge-regression-scikit-learn\n",
    "\n",
    "# Loading required libraries and modules\n",
    "import pandas as pd\n",
    "import numpy as np\n",
    "from sklearn import model_selection\n",
    "from sklearn.linear_model import LinearRegression\n",
    "from sklearn.linear_model import RidgeCV\n",
    "from sklearn.linear_model import LassoCV\n",
    "from sklearn.linear_model import ElasticNetCV\n",
    "from sklearn.neighbors import KNeighborsRegressor\n",
    "from sklearn.tree import DecisionTreeRegressor\n",
    "from sklearn.svm import SVR\n",
    "from sklearn.ensemble import RandomForestRegressor\n",
    "from sklearn.metrics import r2_score, accuracy_score\n",
    "from sklearn.model_selection import train_test_split\n",
    "from sklearn.metrics import mean_squared_error\n",
    "from math import sqrt\n",
    "import pandas"
   ]
  },
  {
   "cell_type": "code",
   "execution_count": 26,
   "metadata": {},
   "outputs": [],
   "source": [
    "# Creating train and test data, using preprocessed and already split up data\n",
    "\n",
    "path_test_data = \"Split_data_48_delay/Combined_All_Test_90.csv\"\n",
    "test_data = pandas.read_csv(path_test_data, header=None)\n",
    "test_set = test_data.values\n",
    "\n",
    "X_test = test_set[:,0:test_set.shape[1] -1].astype(float)\n",
    "y_test = test_set[:,test_set.shape[1] -1]\n",
    "\n",
    "path_train_data = \"Split_data_48_delay/Combined_All_Train_90.csv\"\n",
    "train_data = pandas.read_csv(path_train_data, header=None)\n",
    "train_set = train_data.values\n",
    "X_train = train_set[:,0:test_set.shape[1] -1].astype(float)\n",
    "y_train = train_set[:,test_set.shape[1] -1]\n"
   ]
  },
  {
   "cell_type": "code",
   "execution_count": 27,
   "metadata": {},
   "outputs": [
    {
     "name": "stdout",
     "output_type": "stream",
     "text": [
      "RMSE train: \n",
      "2.814730253358042\n",
      "R2 score train: \n",
      "0.12434127808834927\n",
      "RMSE test: \n",
      "2.9157249677841612\n",
      "R2 score test: \n",
      "0.04828667333256087\n"
     ]
    }
   ],
   "source": [
    "# Linear Regression\n",
    "\n",
    "# Instantiation of model and fitting to training data\n",
    "lr = LinearRegression()\n",
    "lr.fit(X_train, y_train)\n",
    "\n",
    "# Predigt, print RMSE and R-squared\n",
    "pred_train_lr= lr.predict(X_train)\n",
    "print(\"RMSE train: \")\n",
    "print(np.sqrt(mean_squared_error(y_train,pred_train_lr)))\n",
    "print(\"R2 score train: \")\n",
    "print(r2_score(y_train, pred_train_lr))\n",
    "\n",
    "\n",
    "pred_test_lr= lr.predict(X_test)\n",
    "print(\"RMSE test: \")\n",
    "print(np.sqrt(mean_squared_error(y_test,pred_test_lr))) \n",
    "print(\"R2 score test: \")\n",
    "print(r2_score(y_test, pred_test_lr))\n"
   ]
  },
  {
   "cell_type": "code",
   "execution_count": 31,
   "metadata": {},
   "outputs": [
    {
     "name": "stdout",
     "output_type": "stream",
     "text": [
      "2.8149079860704265\n",
      "0.12423068979079033\n",
      "2.911398719759479\n",
      "0.05110881421246072\n",
      "15.969696969696969\n"
     ]
    }
   ],
   "source": [
    "# Ridge regression\n",
    "rr = RidgeCV(alphas=np.linspace(15,17, 100))\n",
    "rr.fit(X_train, y_train) \n",
    "pred_train_rr= rr.predict(X_train)\n",
    "print(np.sqrt(mean_squared_error(y_train,pred_train_rr)))\n",
    "print(r2_score(y_train, pred_train_rr))\n",
    "\n",
    "pred_test_rr= rr.predict(X_test)\n",
    "print(np.sqrt(mean_squared_error(y_test,pred_test_rr))) \n",
    "print(r2_score(y_test, pred_test_rr))\n",
    "\n",
    "print(rr.alpha_)"
   ]
  },
  {
   "cell_type": "code",
   "execution_count": 33,
   "metadata": {},
   "outputs": [
    {
     "name": "stdout",
     "output_type": "stream",
     "text": [
      "3.0079411989262215\n",
      "0.0\n",
      "2.9894063757383993\n",
      "-0.00042135129320342024\n",
      "1000.0\n"
     ]
    }
   ],
   "source": [
    "# Lasso regression\n",
    "model_lasso = LassoCV(alphas= np.linspace(100,1000,100))\n",
    "model_lasso.fit(X_train, y_train) \n",
    "pred_train_lasso= model_lasso.predict(X_train)\n",
    "print(np.sqrt(mean_squared_error(y_train,pred_train_lasso)))\n",
    "print(r2_score(y_train, pred_train_lasso, multioutput='variance_weighted'))\n",
    "\n",
    "pred_test_lasso= model_lasso.predict(X_test)\n",
    "print(np.sqrt(mean_squared_error(y_test,pred_test_lasso))) \n",
    "print(r2_score(y_test, pred_test_lasso, multioutput='variance_weighted'))\n",
    "\n",
    "print(model_lasso.alpha_)\n",
    "\n",
    "# Weird behavior, not changing for any lambda\n",
    "\n"
   ]
  },
  {
   "cell_type": "code",
   "execution_count": 36,
   "metadata": {},
   "outputs": [
    {
     "name": "stdout",
     "output_type": "stream",
     "text": [
      "2.902492707035562\n",
      "0.06888442756841873\n",
      "2.8918609513152016\n",
      "0.06380168915383977\n",
      "0.08818181818181818\n"
     ]
    }
   ],
   "source": [
    "#Elastic Net Regression\n",
    "model_enet = ElasticNetCV(alphas=np.linspace(0.01,0.1,100), max_iter= 10000)\n",
    "model_enet.fit(X_train, y_train) \n",
    "pred_train_enet= model_enet.predict(X_train)\n",
    "print(np.sqrt(mean_squared_error(y_train,pred_train_enet)))\n",
    "print(r2_score(y_train, pred_train_enet))\n",
    "\n",
    "pred_test_enet= model_enet.predict(X_test)\n",
    "print(np.sqrt(mean_squared_error(y_test,pred_test_enet)))\n",
    "print(r2_score(y_test, pred_test_enet))\n",
    "\n",
    "print(model_enet.alpha_)\n",
    "\n"
   ]
  }
 ],
 "metadata": {
  "interpreter": {
   "hash": "8d1b0e05aaf8072557c9e1caf7c5d9e816c75ebd330c6b717cdfc1f2094defc9"
  },
  "kernelspec": {
   "display_name": "Python 3",
   "language": "python",
   "name": "python3"
  },
  "language_info": {
   "codemirror_mode": {
    "name": "ipython",
    "version": 3
   },
   "file_extension": ".py",
   "mimetype": "text/x-python",
   "name": "python",
   "nbconvert_exporter": "python",
   "pygments_lexer": "ipython3",
   "version": "3.8.8"
  }
 },
 "nbformat": 4,
 "nbformat_minor": 2
}
