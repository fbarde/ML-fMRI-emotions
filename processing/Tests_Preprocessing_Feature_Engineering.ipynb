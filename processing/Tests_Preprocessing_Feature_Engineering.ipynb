{
 "cells": [
  {
   "cell_type": "markdown",
   "id": "f10f4479",
   "metadata": {},
   "source": [
    "# General aim of this notebook\n",
    "\n",
    "This notebook gathers all tested feature engineering steps. The later have did not prove to be helpful and have not been retained. They are given here for information purposes.\n",
    "\n",
    "# How to use these preprocessing steps?\n",
    "\n",
    "Simply add corresponding cells to the processing notebooks (e.g. Models.ipynb, Optimization_Models.ipynb, etc), in the \"Preprocessing\" section."
   ]
  },
  {
   "cell_type": "markdown",
   "id": "e1187df3",
   "metadata": {},
   "source": [
    "## 1. Dealing with imbalanced classes"
   ]
  },
  {
   "cell_type": "code",
   "execution_count": null,
   "id": "a7998b99",
   "metadata": {},
   "outputs": [],
   "source": [
    "import imblearn\n",
    "from imblearn.over_sampling import SMOTE\n",
    "oversample = SMOTE()\n",
    "X_train, ytr = oversample.fit_resample(X_train, ytr)"
   ]
  },
  {
   "cell_type": "markdown",
   "id": "85efab05",
   "metadata": {},
   "source": [
    "## 2. Removing correlated features"
   ]
  },
  {
   "cell_type": "code",
   "execution_count": null,
   "id": "6d3dc40e",
   "metadata": {},
   "outputs": [],
   "source": [
    "corr = X_train.corr()\n",
    "correlated_features=set()\n",
    "for i in range(len(corr.columns)):\n",
    "    for j in range(i):\n",
    "        if abs(corr.iloc[i, j]) > 0.9:\n",
    "            colname = corr.columns[i]\n",
    "            correlated_features.add(colname)\n",
    "\n",
    "X_train.drop(labels=correlated_features, axis=1, inplace=True)\n",
    "X_test.drop(labels=correlated_features, axis=1, inplace=True)"
   ]
  },
  {
   "cell_type": "markdown",
   "id": "c9137521",
   "metadata": {},
   "source": [
    "## 3. Removing features with low variance"
   ]
  },
  {
   "cell_type": "code",
   "execution_count": null,
   "id": "044a9ba6",
   "metadata": {},
   "outputs": [],
   "source": [
    "from sklearn.feature_selection import VarianceThreshold\n",
    "sel = VarianceThreshold(threshold=0.35)\n",
    "sel.fit(X_train)\n",
    "X_train = (pd.DataFrame(sel.transform(X_train)))\n",
    "X_test = (pd.DataFrame(sel.transform(X_test)))"
   ]
  }
 ],
 "metadata": {
  "kernelspec": {
   "display_name": "Python 3",
   "language": "python",
   "name": "python3"
  },
  "language_info": {
   "codemirror_mode": {
    "name": "ipython",
    "version": 3
   },
   "file_extension": ".py",
   "mimetype": "text/x-python",
   "name": "python",
   "nbconvert_exporter": "python",
   "pygments_lexer": "ipython3",
   "version": "3.8.8"
  }
 },
 "nbformat": 4,
 "nbformat_minor": 5
}
