{
 "cells": [
  {
   "cell_type": "code",
   "execution_count": 16,
   "id": "63909215",
   "metadata": {},
   "outputs": [],
   "source": [
    "import numpy as np\n",
    "import pandas as pd\n",
    "import tensorflow as tf\n",
    "from sklearn.model_selection import train_test_split"
   ]
  },
  {
   "cell_type": "markdown",
   "id": "d5f16ec4",
   "metadata": {},
   "source": [
    "## Load the data"
   ]
  },
  {
   "cell_type": "code",
   "execution_count": 35,
   "id": "7799a80c",
   "metadata": {},
   "outputs": [],
   "source": [
    "seed = 7\n",
    "np.random.seed(seed)"
   ]
  },
  {
   "cell_type": "code",
   "execution_count": 36,
   "id": "885a4a3d",
   "metadata": {},
   "outputs": [],
   "source": [
    "data_train_path = 'C:/Users/Flore.MININT-64PJ14C/Documents/GitHub/ML_Project2/results/Split_48_0.8/Combined_All_Train_80.csv'\n",
    "data_test_path = 'C:/Users/Flore.MININT-64PJ14C/Documents/GitHub/ML_Project2/results/Split_48_0.8/Combined_All_Test_80.csv'\n",
    "\n",
    "tx_train = pd.read_csv(data_train_path,sep=\",\",squeeze=True)\n",
    "X_train=tx_train.iloc[:, :48]\n",
    "ytr = pd.read_csv(data_train_path,sep=\",\",usecols=[48],squeeze=True)\n",
    "y_train = tf.keras.utils.to_categorical(ytr,num_classes=14)\n",
    "\n",
    "tx_test = pd.read_csv(data_test_path,sep=\",\",squeeze=True)\n",
    "X_test=tx_test.iloc[:, :48]\n",
    "yte = pd.read_csv(data_test_path,sep=\",\",usecols=[48],squeeze=True)\n",
    "y_test = tf.keras.utils.to_categorical(yte,num_classes=14)\n"
   ]
  },
  {
   "cell_type": "code",
   "execution_count": 37,
   "id": "350df517",
   "metadata": {
    "scrolled": true
   },
   "outputs": [
    {
     "name": "stdout",
     "output_type": "stream",
     "text": [
      "(8910, 48)\n",
      "(8910, 14)\n",
      "(2931, 48)\n",
      "(2931, 14)\n"
     ]
    }
   ],
   "source": [
    "print(X_train.shape)\n",
    "print(y_train.shape)\n",
    "print(X_test.shape)\n",
    "print(y_test.shape)"
   ]
  },
  {
   "cell_type": "markdown",
   "id": "1b28301e",
   "metadata": {},
   "source": [
    "## Training"
   ]
  },
  {
   "cell_type": "code",
   "execution_count": 20,
   "id": "1a8c0ac3",
   "metadata": {},
   "outputs": [
    {
     "name": "stdout",
     "output_type": "stream",
     "text": [
      "(8910, 48)\n",
      "(8910, 48, 1)\n"
     ]
    }
   ],
   "source": [
    "print(X_train.shape)\n",
    "X_train=tf.expand_dims(X_train, axis=-1)\n",
    "print(X_train.shape)\n"
   ]
  },
  {
   "cell_type": "code",
   "execution_count": 21,
   "id": "f2810218",
   "metadata": {},
   "outputs": [
    {
     "name": "stdout",
     "output_type": "stream",
     "text": [
      "(2931, 48)\n",
      "(2931, 48, 1)\n"
     ]
    }
   ],
   "source": [
    "print(X_test.shape)\n",
    "X_test=tf.expand_dims(X_test, axis=-1)\n",
    "print(X_test.shape)"
   ]
  },
  {
   "cell_type": "code",
   "execution_count": 38,
   "id": "ba444331",
   "metadata": {},
   "outputs": [],
   "source": [
    "#X_train, X_test, y_train, y_test = train_test_split(x, ycat, test_size=0.2, random_state=4)\n",
    "n_samples, n_features = X_train.shape[0], X_train.shape[1]\n",
    "n_outputs=14"
   ]
  },
  {
   "cell_type": "code",
   "execution_count": 39,
   "id": "ed8762e6",
   "metadata": {},
   "outputs": [],
   "source": [
    "from tensorflow.keras.layers import Conv1D, Dropout, MaxPooling1D, Flatten, Dense\n",
    "\n",
    "model = tf.keras.Sequential()\n",
    "model.add(Dense(6, input_dim=48, activation='relu',kernel_initializer='zero'))\n",
    "model.add(Dense(14, activation='softmax'))\n",
    "    \n",
    "# Compile model\n",
    "optimizer = tf.keras.optimizers.Adagrad(lr=0.01)\n",
    "model.compile(loss='categorical_crossentropy', optimizer=optimizer, metrics=['accuracy'])\n",
    "    "
   ]
  },
  {
   "cell_type": "code",
   "execution_count": 40,
   "id": "7b4b4203",
   "metadata": {},
   "outputs": [],
   "source": [
    "# fit and evaluate a model\n",
    "def evaluate_model(trainX, trainy, testX, testy, model):\n",
    "    epochs, batch_size = 10, 100\n",
    "    n_samples, n_features = X_train.shape[0], X_train.shape[1]\n",
    "    n_outputs=14\n",
    "    # fit network\n",
    "    model.fit(trainX, trainy, epochs=epochs, batch_size=batch_size)\n",
    "    # evaluate model\n",
    "    _, accuracy = model.evaluate(testX, testy, batch_size=batch_size)\n",
    "    return accuracy"
   ]
  },
  {
   "cell_type": "code",
   "execution_count": 32,
   "id": "ae4a3f31",
   "metadata": {},
   "outputs": [
    {
     "name": "stdout",
     "output_type": "stream",
     "text": [
      "(8910, 48)\n",
      "(8910, 48, 1)\n"
     ]
    }
   ],
   "source": [
    "print(X_train.shape)\n",
    "X_train=tf.expand_dims(X_train, axis=-1)\n",
    "print(X_train.shape)\n"
   ]
  },
  {
   "cell_type": "code",
   "execution_count": 33,
   "id": "aeacbcf9",
   "metadata": {},
   "outputs": [
    {
     "name": "stdout",
     "output_type": "stream",
     "text": [
      "(2931, 48)\n",
      "(2931, 48, 1)\n"
     ]
    }
   ],
   "source": [
    "print(X_test.shape)\n",
    "X_test=tf.expand_dims(X_test, axis=-1)\n",
    "print(X_test.shape)"
   ]
  },
  {
   "cell_type": "code",
   "execution_count": 41,
   "id": "aa291a9a",
   "metadata": {},
   "outputs": [
    {
     "name": "stdout",
     "output_type": "stream",
     "text": [
      "Epoch 1/10\n",
      "90/90 [==============================] - 0s 983us/step - loss: 2.5777 - accuracy: 0.3603\n",
      "Epoch 2/10\n",
      "90/90 [==============================] - 0s 1ms/step - loss: 2.5080 - accuracy: 0.3644\n",
      "Epoch 3/10\n",
      "90/90 [==============================] - 0s 1ms/step - loss: 2.4634 - accuracy: 0.3644\n",
      "Epoch 4/10\n",
      "90/90 [==============================] - 0s 1ms/step - loss: 2.4289 - accuracy: 0.3644\n",
      "Epoch 5/10\n",
      "90/90 [==============================] - 0s 1ms/step - loss: 2.4006 - accuracy: 0.3644\n",
      "Epoch 6/10\n",
      "90/90 [==============================] - 0s 1ms/step - loss: 2.3765 - accuracy: 0.3644\n",
      "Epoch 7/10\n",
      "90/90 [==============================] - 0s 1ms/step - loss: 2.3554 - accuracy: 0.3644\n",
      "Epoch 8/10\n",
      "90/90 [==============================] - 0s 1ms/step - loss: 2.3365 - accuracy: 0.3644\n",
      "Epoch 9/10\n",
      "90/90 [==============================] - 0s 1ms/step - loss: 2.3198 - accuracy: 0.3644\n",
      "Epoch 10/10\n",
      "90/90 [==============================] - 0s 1ms/step - loss: 2.3045 - accuracy: 0.3644\n",
      "30/30 [==============================] - 0s 1ms/step - loss: 2.2869 - accuracy: 0.3548\n"
     ]
    },
    {
     "data": {
      "text/plain": [
       "0.3548277020454407"
      ]
     },
     "execution_count": 41,
     "metadata": {},
     "output_type": "execute_result"
    }
   ],
   "source": [
    "evaluate_model(X_train, y_train, X_test, y_test, model)"
   ]
  },
  {
   "cell_type": "markdown",
   "id": "16a40355",
   "metadata": {},
   "source": [
    "### Prediction of the model on the test set\n",
    "Remark: Accuracy should be the same as the one just above"
   ]
  },
  {
   "cell_type": "code",
   "execution_count": 42,
   "id": "09e9d8b3",
   "metadata": {
    "scrolled": true
   },
   "outputs": [],
   "source": [
    "Y_pred = model.predict(X_test)\n",
    "y_pred = np.argmax(Y_pred, axis=1)"
   ]
  },
  {
   "cell_type": "code",
   "execution_count": 43,
   "id": "458c7e4b",
   "metadata": {
    "scrolled": true
   },
   "outputs": [
    {
     "name": "stdout",
     "output_type": "stream",
     "text": [
      "Accuracy =  0.35482770385533946\n"
     ]
    }
   ],
   "source": [
    "#yshape=np.zeros(14)\n",
    "#Y_test=np.argmax(y_test, axis=1)#, out=yshape\n",
    "acc = sum(1 for y_p, y_t in zip(y_pred, yte) if y_p == y_t)\n",
    "score = acc/len(y_pred)\n",
    "print('Accuracy = ', score)"
   ]
  },
  {
   "cell_type": "code",
   "execution_count": 44,
   "id": "42e622ab",
   "metadata": {},
   "outputs": [
    {
     "data": {
      "text/plain": [
       "dtype('int64')"
      ]
     },
     "execution_count": 44,
     "metadata": {},
     "output_type": "execute_result"
    }
   ],
   "source": [
    "yte = yte.astype(np.int64) # Change the variable type to match the one of the predicted \n",
    "yte.dtype"
   ]
  },
  {
   "cell_type": "markdown",
   "id": "d74d73fa",
   "metadata": {},
   "source": [
    "## Confusion matrix"
   ]
  },
  {
   "cell_type": "code",
   "execution_count": 45,
   "id": "f7011bae",
   "metadata": {
    "scrolled": true
   },
   "outputs": [],
   "source": [
    "from sklearn.metrics import confusion_matrix\n",
    "lbs=[0,1,2,3,4,5,6,7,8,9,10,11,12,13]\n",
    "cf_matrix = confusion_matrix(yte, y_pred,labels=lbs)\n",
    "#print(cf_matrix)"
   ]
  },
  {
   "cell_type": "code",
   "execution_count": 46,
   "id": "0f9ad180",
   "metadata": {},
   "outputs": [
    {
     "data": {
      "image/png": "[encoded data removed]",
      "text/plain": [
       "<Figure size 720x720 with 2 Axes>"
      ]
     },
     "metadata": {
      "needs_background": "light"
     },
     "output_type": "display_data"
    }
   ],
   "source": [
    "import seaborn as sns\n",
    "from cf_matrix import make_confusion_matrix\n",
    "import matplotlib.pyplot as plt\n",
    "plt.rcParams['figure.figsize'] = [10, 10]\n",
    "\n",
    "categories = ['Anger','Sad','Guilt','Shame','Disgust','Anxiety','Fear','Surprise','Contempt','Satisfaction',\n",
    "            'WarmHeartedness','Happiness', 'Love', 'Neutral' ]\n",
    "make_confusion_matrix(cf_matrix/np.sum(cf_matrix),\n",
    "             categories=categories, cmap='Blues')"
   ]
  },
  {
   "cell_type": "code",
   "execution_count": 48,
   "id": "310a56c8",
   "metadata": {},
   "outputs": [
    {
     "name": "stdout",
     "output_type": "stream",
     "text": [
      "2931\n"
     ]
    }
   ],
   "source": [
    "print(cf_matrix.sum())"
   ]
  },
  {
   "cell_type": "markdown",
   "id": "74cf6cb9",
   "metadata": {},
   "source": [
    "# To save the trained model"
   ]
  },
  {
   "cell_type": "code",
   "execution_count": 16,
   "id": "45877588",
   "metadata": {
    "scrolled": true
   },
   "outputs": [
    {
     "name": "stdout",
     "output_type": "stream",
     "text": [
      "INFO:tensorflow:Assets written to: C:/Users/manon/Desktop/Projet_2 _ML/code/models/model_cnn_split_1\\assets\n"
     ]
    }
   ],
   "source": [
    "saving_path='C:/Users/manon/Desktop/Projet_2 _ML/code/models/'\n",
    "name='model_cnn_split_1'\n",
    "model.save(saving_path+name)"
   ]
  },
  {
   "cell_type": "markdown",
   "id": "99880c49",
   "metadata": {},
   "source": [
    "# Plot the model"
   ]
  },
  {
   "cell_type": "code",
   "execution_count": 101,
   "id": "db892ab1",
   "metadata": {},
   "outputs": [
    {
     "name": "stdout",
     "output_type": "stream",
     "text": [
      "('You must install pydot (`pip install pydot`) and install graphviz (see instructions at https://graphviz.gitlab.io/download/) ', 'for plot_model/model_to_dot to work.')\n"
     ]
    }
   ],
   "source": [
    "from tensorflow.keras.utils import plot_model#see the inputs and outputs\n",
    "import graphviz\n",
    "import pydot\n",
    "\n",
    "modele = tf.keras.Sequential()\n",
    "modele.add(Dense(8, input_dim=400, activation='relu'))\n",
    "modele.add(Dense(14, activation='softmax'))\n",
    "# Compile model\n",
    "modele.compile(loss='categorical_crossentropy', optimizer='adam', metrics=['accuracy'])\n",
    "\n",
    "plot_model(modele,show_shapes=True)"
   ]
  },
  {
   "cell_type": "code",
   "execution_count": null,
   "id": "f50ffba3",
   "metadata": {},
   "outputs": [],
   "source": []
  }
 ],
 "metadata": {
  "kernelspec": {
   "display_name": "Python 3",
   "language": "python",
   "name": "python3"
  },
  "language_info": {
   "codemirror_mode": {
    "name": "ipython",
    "version": 3
   },
   "file_extension": ".py",
   "mimetype": "text/x-python",
   "name": "python",
   "nbconvert_exporter": "python",
   "pygments_lexer": "ipython3",
   "version": "3.8.8"
  }
 },
 "nbformat": 4,
 "nbformat_minor": 5
}
