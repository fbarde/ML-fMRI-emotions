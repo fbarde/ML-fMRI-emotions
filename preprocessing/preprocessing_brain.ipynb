{
 "cells": [
  {
   "cell_type": "code",
   "execution_count": 1,
   "id": "68c8b559",
   "metadata": {},
   "outputs": [],
   "source": [
    "import numpy as np\n",
    "import math"
   ]
  },
  {
   "cell_type": "markdown",
   "id": "82c71b89",
   "metadata": {},
   "source": [
    "# Preprocessing of Brain Datas"
   ]
  },
  {
   "cell_type": "markdown",
   "id": "0399ee8b",
   "metadata": {},
   "source": [
    "### Informations about the Movie "
   ]
  },
  {
   "cell_type": "code",
   "execution_count": 4,
   "id": "e050804a",
   "metadata": {},
   "outputs": [
    {
     "name": "stdout",
     "output_type": "stream",
     "text": [
      "376\n"
     ]
    }
   ],
   "source": [
    "duration = 490 # in seconds\n",
    "sample_freq = 1.3 # Sampling rate\n",
    "n_samples = math.floor(duration/sample_freq)# number of fMRI samples\n",
    "print(n_samples)"
   ]
  },
  {
   "cell_type": "markdown",
   "id": "239fa924",
   "metadata": {},
   "source": [
    "### Load the data"
   ]
  },
  {
   "cell_type": "code",
   "execution_count": 13,
   "id": "1cd1fba4",
   "metadata": {},
   "outputs": [
    {
     "name": "stdout",
     "output_type": "stream",
     "text": [
      "(376, 400)\n"
     ]
    }
   ],
   "source": [
    "data_path=\"datas/BigBuckBunny_TC_400.csv\"\n",
    "''' \n",
    "Read the data from the .csv file, \n",
    "skip the first 71 rows corresponding to the time before the beginning of the movie\n",
    "'''\n",
    "X = np.genfromtxt(data_path, delimiter=\",\",skip_header=72) \n",
    "\n",
    "''' Delete the final rows, after the end of the movie (based on its duration)'''\n",
    "skip_end = X.shape[0]-n_samples\n",
    "X = X[:-skip_end, :]\n",
    "print(X.shape)"
   ]
  },
  {
   "cell_type": "markdown",
   "id": "bfc21345",
   "metadata": {},
   "source": [
    "### Averaging over 10 samples (i.e. over 13 s)\n",
    "\n",
    "Each feature (i.e. each column, or each brain region) is averaged over 10 samples (i.e. 10 rows)\\\n",
    "--> Resulting array has 10 times less rows"
   ]
  },
  {
   "cell_type": "code",
   "execution_count": 9,
   "id": "b224dc75",
   "metadata": {},
   "outputs": [
    {
     "name": "stdout",
     "output_type": "stream",
     "text": [
      "(37, 400)\n"
     ]
    }
   ],
   "source": [
    "N = X.shape[0] # number of remaining samples\n",
    "D = X.shape[1] # number of features, i.e. brain regions, should be 400\n",
    "\n",
    "new_N = int(N/10)\n",
    "X_averaged = np.zeros([new_N,D])\n",
    "\n",
    " \n",
    "\n",
    "for i in range(new_N):\n",
    "    means = np.mean(X[i:i+10],axis=0)\n",
    "    X_averaged[i,:] = means\n",
    "\n",
    "print(X_averaged.shape)"
   ]
  },
  {
   "cell_type": "markdown",
   "id": "285ebfa3",
   "metadata": {},
   "source": [
    "### Saving preprocessed data"
   ]
  },
  {
   "cell_type": "code",
   "execution_count": 12,
   "id": "e22e9dc2",
   "metadata": {},
   "outputs": [],
   "source": [
    "import pandas as pd \n",
    "\n",
    "output_path = \"results/BigBuckBunny_TC_400_averaged.csv\"\n",
    "pd.DataFrame(X_averaged).to_csv(output_path,header=None, index=None)"
   ]
  },
  {
   "cell_type": "code",
   "execution_count": null,
   "id": "fc4a7bab",
   "metadata": {},
   "outputs": [],
   "source": []
  }
 ],
 "metadata": {
  "kernelspec": {
   "display_name": "Python 3",
   "language": "python",
   "name": "python3"
  },
  "language_info": {
   "codemirror_mode": {
    "name": "ipython",
    "version": 3
   },
   "file_extension": ".py",
   "mimetype": "text/x-python",
   "name": "python",
   "nbconvert_exporter": "python",
   "pygments_lexer": "ipython3",
   "version": "3.8.8"
  }
 },
 "nbformat": 4,
 "nbformat_minor": 5
}
