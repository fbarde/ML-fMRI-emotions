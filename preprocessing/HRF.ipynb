{
 "cells": [
  {
   "cell_type": "code",
   "execution_count": 1,
   "metadata": {},
   "outputs": [],
   "source": [
    "import matplotlib.pyplot as plt\n",
    "from scipy.stats import gamma\n",
    "from scipy import signal\n",
    "import numpy as np"
   ]
  },
  {
   "cell_type": "code",
   "execution_count": 3,
   "metadata": {},
   "outputs": [],
   "source": [
    "def create_hrf(p,TR,fmri_T):\n",
    "    dt = TR/fmri_T\n",
    "    u = np.empty(int(p[6]/dt),dtype=np.float64)\n",
    "    for i in np.arange(u.size):\n",
    "        u[i] = i - p[5]/dt\n",
    "    u = u/max(u) * p[6]\n",
    "    hrf = gamma.pdf(u,p[0]/p[2],dt/p[2]) - gamma.pdf(u,p[1]/p[3],dt/p[3])/p[4]\n",
    "    points = np.empty(int(p[6]/TR),dtype=np.int)\n",
    "    for i in np.arange(points.size):\n",
    "        points[i] = i*fmri_T + 1\n",
    "    hrf = hrf/sum(hrf)\n",
    "    return points,u,hrf"
   ]
  },
  {
   "cell_type": "code",
   "execution_count": 4,
   "metadata": {},
   "outputs": [],
   "source": [
    "#1 peak\n",
    "#2 undershoot\n",
    "#3 dispersion of response\n",
    "#4 dispersion of undershoot\n",
    "#5 ratio response to undershoot\n",
    "#6 delay\n",
    "#7 length\n",
    "parameters = np.array([6,16,1,1,6,0,32])\n",
    "# TR\n",
    "TR = 1\n",
    "# number of points per second\n",
    "fmri_T = 16"
   ]
  },
  {
   "cell_type": "code",
   "execution_count": 5,
   "metadata": {},
   "outputs": [],
   "source": [
    "samples,points,hrf = create_hrf(parameters,TR,fmri_T)"
   ]
  },
  {
   "cell_type": "code",
   "execution_count": 7,
   "metadata": {},
   "outputs": [
    {
     "data": {
      "text/plain": [
       "[<matplotlib.lines.Line2D at 0x11b5342e0>]"
      ]
     },
     "execution_count": 7,
     "metadata": {},
     "output_type": "execute_result"
    },
    {
     "data": {
      "image/png": "[encoded data removed]",
      "text/plain": [
       "<Figure size 432x288 with 1 Axes>"
      ]
     },
     "metadata": {
      "needs_background": "light"
     },
     "output_type": "display_data"
    }
   ],
   "source": [
    "plt.plot(points[samples],hrf[samples])"
   ]
  },
  {
   "cell_type": "code",
   "execution_count": null,
   "metadata": {},
   "outputs": [],
   "source": []
  }
 ],
 "metadata": {
  "kernelspec": {
   "display_name": "Python 3",
   "language": "python",
   "name": "python3"
  },
  "language_info": {
   "codemirror_mode": {
    "name": "ipython",
    "version": 3
   },
   "file_extension": ".py",
   "mimetype": "text/x-python",
   "name": "python",
   "nbconvert_exporter": "python",
   "pygments_lexer": "ipython3",
   "version": "3.8.8"
  }
 },
 "nbformat": 4,
 "nbformat_minor": 4
}
